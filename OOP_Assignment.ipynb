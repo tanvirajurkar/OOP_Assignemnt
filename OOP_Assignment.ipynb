{
 "cells": [
  {
   "cell_type": "markdown",
   "id": "181f9e4d",
   "metadata": {},
   "source": [
    "# OOP - Assignmnet"
   ]
  },
  {
   "cell_type": "markdown",
   "id": "cdba3741",
   "metadata": {},
   "source": [
    "## Theory Questions"
   ]
  },
  {
   "cell_type": "markdown",
   "id": "57815f48",
   "metadata": {},
   "source": [
    "### 1. What is Object-Oriented Programming (OOP)"
   ]
  },
  {
   "cell_type": "markdown",
   "id": "de8c7356",
   "metadata": {},
   "source": [
    "**Answer:**\n",
    "Object-Oriented Programming (OOP) is a programming paradigm that organizes code into class and objects instead of just functions and logic.\n",
    "\n",
    "* Objects represent real-world entities (like Student, Car, Employee).\n",
    "* They combine data (attributes) and functions (methods) into a single unit.\n",
    "* The four main pillars of OOP are:\n",
    "\n",
    "    * Encapsulation – binding data and methods together.\n",
    "    * Abstraction – hiding internal details, showing only the necessary part.\n",
    "    * Inheritance – creating new classes from existing ones.\n",
    "    * Polymorphism – ability to take multiple forms (same function, different behavior)."
   ]
  },
  {
   "cell_type": "markdown",
   "id": "6764a9cf",
   "metadata": {},
   "source": [
    "### 2. What is a class in OOP"
   ]
  },
  {
   "cell_type": "markdown",
   "id": "dc3104c1",
   "metadata": {},
   "source": [
    "**Answer:**\n",
    "A class is a blueprint or template for creating objects.It defines attributes (variables) and methods (functions).\n",
    "\n",
    "Example:"
   ]
  },
  {
   "cell_type": "code",
   "execution_count": 2,
   "id": "6da44771",
   "metadata": {},
   "outputs": [],
   "source": [
    "class Car:\n",
    "    def __init__(self, brand, color):\n",
    "        self.brand = brand\n",
    "        self.color = color\n",
    "    \n",
    "    def drive(self):\n",
    "        print(f\"{self.brand} car is driving\")\n"
   ]
  },
  {
   "cell_type": "markdown",
   "id": "d44d40ca",
   "metadata": {},
   "source": [
    "### 3. What is an object in OOP"
   ]
  },
  {
   "cell_type": "markdown",
   "id": "071aebc8",
   "metadata": {},
   "source": [
    "**Answer:**\n",
    "An object is an instance of a class.\n",
    "* When a class is defined, no memory is allocated.\n",
    "* When we create an object, memory is allocated and the object gets its own data.\n",
    "\n",
    "Example:"
   ]
  },
  {
   "cell_type": "code",
   "execution_count": 3,
   "id": "26ad3506",
   "metadata": {},
   "outputs": [
    {
     "name": "stdout",
     "output_type": "stream",
     "text": [
      "Tesla car is driving\n"
     ]
    }
   ],
   "source": [
    "car1 = Car(\"Tesla\", \"Red\")   # object of class Car\n",
    "car1.drive()"
   ]
  },
  {
   "cell_type": "markdown",
   "id": "e35fcad1",
   "metadata": {},
   "source": [
    "### 4. What is the difference between abstraction and encapsulation"
   ]
  },
  {
   "cell_type": "markdown",
   "id": "2413dca7",
   "metadata": {},
   "source": [
    "**Answer:**\n",
    "* Abstraction → Hides implementation details, shows only necessary functionality. (Focus on what the object does).\n",
    "* Encapsulation → Wrapping data (variables) and methods into a single unit (class). It restricts direct access to data. (Focus on how it is hidden).\n",
    "\n",
    "----\n",
    "Example:\n",
    "\n",
    "* Abstraction: You use a car.drive() method without knowing how the engine works.\n",
    "* Encapsulation: Declaring self.__speed as private so it can’t be accessed directly outside the class."
   ]
  },
  {
   "cell_type": "markdown",
   "id": "6a239ff9",
   "metadata": {},
   "source": [
    "### 5. What are dunder methods in Python"
   ]
  },
  {
   "cell_type": "markdown",
   "id": "7c7b9ca8",
   "metadata": {},
   "source": [
    "**Answer:**\n",
    "Dunder (double underscore) methods are special built-in methods in Python, also called magic methods.\n",
    "\n",
    "---\n",
    "Examples:\n",
    "* __init__ → constructor (runs automatically when object is created).\n",
    "* __str__ → returns a readable string representation.\n",
    "* __add__ → used for operator overloading (+).\n",
    "* __eq__ → checks equality (==)."
   ]
  },
  {
   "cell_type": "markdown",
   "id": "cb4495ab",
   "metadata": {},
   "source": [
    "### 6. Explain the concept of inheritance in OOP"
   ]
  },
  {
   "cell_type": "markdown",
   "id": "ede66f66",
   "metadata": {},
   "source": [
    "**Answer:**\n",
    "Inheritance allows one class (child/derived) to acquire properties and methods of another class (parent/base).\n",
    "* Promotes code reusability.\n",
    "* Types:\n",
    "    * Single Inheritance\n",
    "    * Multiple Inheritance\n",
    "    * Multilevel Inheritance\n",
    "    * Hierarchical Inheritance\n",
    "\n",
    "* Example:"
   ]
  },
  {
   "cell_type": "code",
   "execution_count": 4,
   "id": "80f87dbd",
   "metadata": {},
   "outputs": [],
   "source": [
    "class Animal:\n",
    "    def speak(self):\n",
    "        print(\"Animal speaks\")\n",
    "\n",
    "class Dog(Animal):\n",
    "    def speak(self):\n",
    "        print(\"Bark\")"
   ]
  },
  {
   "cell_type": "markdown",
   "id": "95d193b8",
   "metadata": {},
   "source": [
    "### 7. What is polymorphism in OOP"
   ]
  },
  {
   "cell_type": "markdown",
   "id": "666675fe",
   "metadata": {},
   "source": [
    "**Answer:**\n",
    "Polymorphism means same function name, different behavior depending on context.\n",
    "* Types:\n",
    "    * Compile-time (overloading) – Not supported directly in Python, simulated with default arguments.\n",
    "    * Runtime (overriding) – Achieved via inheritance.\n",
    "\n",
    "* Example:"
   ]
  },
  {
   "cell_type": "code",
   "execution_count": 5,
   "id": "560196b3",
   "metadata": {},
   "outputs": [],
   "source": [
    "class Bird:\n",
    "    def fly(self):\n",
    "        print(\"Some birds fly\")\n",
    "\n",
    "class Sparrow(Bird):\n",
    "    def fly(self):\n",
    "        print(\"Sparrow flies high\")\n",
    "\n",
    "class Penguin(Bird):\n",
    "    def fly(self):\n",
    "        print(\"Penguin cannot fly\")\n"
   ]
  },
  {
   "cell_type": "markdown",
   "id": "fc4aad29",
   "metadata": {},
   "source": [
    "### 8. How is encapsulation achieved in Python"
   ]
  },
  {
   "cell_type": "markdown",
   "id": "f925de16",
   "metadata": {},
   "source": [
    "**Answer:**\n",
    "Encapsulation is achieved using access modifiers:\n",
    "* Public: accessible everywhere.\n",
    "* Protected (_variable): accessible within class & subclass.\n",
    "* Private (__variable): only accessible inside the class.\n",
    "\n",
    "Example:"
   ]
  },
  {
   "cell_type": "markdown",
   "id": "87aee8f3",
   "metadata": {},
   "source": [
    "### 9. What is a constructor in Python"
   ]
  },
  {
   "cell_type": "markdown",
   "id": "b980c82b",
   "metadata": {},
   "source": [
    "**Answer:**\n",
    "A constructor is a special method __init__() in Python, called automatically when an object is created.It used to initialize attributes."
   ]
  },
  {
   "cell_type": "code",
   "execution_count": 6,
   "id": "560d1ffc",
   "metadata": {},
   "outputs": [],
   "source": [
    "class Student:\n",
    "    def __init__(self, name, age):\n",
    "        self.name = name\n",
    "        self.age = age"
   ]
  },
  {
   "cell_type": "markdown",
   "id": "e1a8db65",
   "metadata": {},
   "source": [
    "### 10. What are class and static methods in Python"
   ]
  },
  {
   "cell_type": "markdown",
   "id": "4e9407bc",
   "metadata": {},
   "source": [
    "**Answer:**\n",
    "* Instance Method → takes self, works on object.\n",
    "\n",
    "* Class Method → takes cls, works on class (created with @classmethod).\n",
    "\n",
    "* Static Method → does not take self/cls, behaves like a normal function inside class (@staticmethod).\n",
    "\n",
    "Example:"
   ]
  },
  {
   "cell_type": "code",
   "execution_count": 7,
   "id": "8f98f5d1",
   "metadata": {},
   "outputs": [],
   "source": [
    "class Math:\n",
    "    @classmethod\n",
    "    def info(cls):\n",
    "        return \"This is a class method\"\n",
    "    \n",
    "    @staticmethod\n",
    "    def add(a, b):\n",
    "        return a + b"
   ]
  },
  {
   "cell_type": "markdown",
   "id": "5ad562a3",
   "metadata": {},
   "source": [
    "### 11. What is method overloading in Python"
   ]
  },
  {
   "cell_type": "markdown",
   "id": "b427985b",
   "metadata": {},
   "source": [
    "**Answer:**\n",
    "* Having multiple methods with the same name but different arguments.\n",
    "\n",
    "* Python does not support it directly, but can be achieved with default parameters or *args."
   ]
  },
  {
   "cell_type": "code",
   "execution_count": 8,
   "id": "e6d7b6de",
   "metadata": {},
   "outputs": [],
   "source": [
    "class Math:\n",
    "    def add(self, a, b=0, c=0):\n",
    "        return a + b + c\n"
   ]
  },
  {
   "cell_type": "markdown",
   "id": "62af05ce",
   "metadata": {},
   "source": [
    "### 12. What is method overriding in OOP"
   ]
  },
  {
   "cell_type": "markdown",
   "id": "1d9c2898",
   "metadata": {},
   "source": [
    "**Answer:**\n",
    "When a child class defines a method with the same name as the parent class method, the child’s method overrides it.\n",
    "\n",
    "Example:"
   ]
  },
  {
   "cell_type": "code",
   "execution_count": 9,
   "id": "5071f82e",
   "metadata": {},
   "outputs": [],
   "source": [
    "class Animal:\n",
    "    def speak(self):\n",
    "        print(\"Animal sound\")\n",
    "\n",
    "class Dog(Animal):\n",
    "    def speak(self):\n",
    "        print(\"Bark\")"
   ]
  },
  {
   "cell_type": "markdown",
   "id": "c746b51e",
   "metadata": {},
   "source": [
    "### 13. What is a property decorator in Python"
   ]
  },
  {
   "cell_type": "markdown",
   "id": "dde9c087",
   "metadata": {},
   "source": [
    "**Answer:**\n",
    "* @property allows a method to be accessed like an attribute.\n",
    "\n",
    "* Useful for getter and setter.\n",
    "\n",
    "Example:"
   ]
  },
  {
   "cell_type": "code",
   "execution_count": 10,
   "id": "b6d0512b",
   "metadata": {},
   "outputs": [],
   "source": [
    "class Student:\n",
    "    def __init__(self, name):\n",
    "        self._name = name\n",
    "\n",
    "    @property\n",
    "    def name(self):\n",
    "        return self._name\n"
   ]
  },
  {
   "cell_type": "markdown",
   "id": "ff78ec12",
   "metadata": {},
   "source": [
    "### 14. Why is polymorphism important in OOP"
   ]
  },
  {
   "cell_type": "markdown",
   "id": "0659452f",
   "metadata": {},
   "source": [
    "**Answer:**\n",
    "* Provides flexibility.\n",
    "* Makes code more reusable and maintainable.\n",
    "* Supports dynamic method resolution.\n",
    "\n",
    "Example: Different classes (Dog, Cat) can have the same method speak() but different implementations."
   ]
  },
  {
   "cell_type": "markdown",
   "id": "12b031d1",
   "metadata": {},
   "source": [
    "### 15. What is an abstract class in Python"
   ]
  },
  {
   "cell_type": "markdown",
   "id": "c9ee1c2f",
   "metadata": {},
   "source": [
    "**Answer:**\n",
    "* A class that cannot be instantiated directly.\n",
    "* Contains abstract methods (declared but not defined).\n",
    "* Defined using ABC and @abstractmethod from abc module."
   ]
  },
  {
   "cell_type": "code",
   "execution_count": 11,
   "id": "a344499f",
   "metadata": {},
   "outputs": [],
   "source": [
    "from abc import ABC, abstractmethod\n",
    "\n",
    "class Shape(ABC):\n",
    "    @abstractmethod\n",
    "    def area(self):\n",
    "        pass"
   ]
  },
  {
   "cell_type": "markdown",
   "id": "fb2e04ac",
   "metadata": {},
   "source": [
    "### 16. What are the advantages of OOP"
   ]
  },
  {
   "cell_type": "markdown",
   "id": "60015db9",
   "metadata": {},
   "source": [
    "**Answer:**\n",
    "* Code reusability (via inheritance).\n",
    "* Modularity – easy to maintain and debug.\n",
    "* Abstraction – hides complexity.\n",
    "* Encapsulation – data security.\n",
    "* Polymorphism – flexibility and extensibility."
   ]
  },
  {
   "cell_type": "markdown",
   "id": "19eeeba2",
   "metadata": {},
   "source": [
    "### 17. What is the difference between a class variable and an instance variable"
   ]
  },
  {
   "cell_type": "markdown",
   "id": "9be6d28a",
   "metadata": {},
   "source": [
    "**Answer:**\n",
    "* Class Variable → Shared across all objects of the class.\n",
    "* Instance Variable → Unique to each object.\n",
    "\n",
    "Example:"
   ]
  },
  {
   "cell_type": "code",
   "execution_count": 12,
   "id": "17e069af",
   "metadata": {},
   "outputs": [],
   "source": [
    "class Student:\n",
    "    school = \"ABC School\"   # class variable\n",
    "    def __init__(self, name):\n",
    "        self.name = name    # instance variable"
   ]
  },
  {
   "cell_type": "markdown",
   "id": "70fc87d3",
   "metadata": {},
   "source": [
    "### 18. What is multiple inheritance in Python"
   ]
  },
  {
   "cell_type": "markdown",
   "id": "a6a90725",
   "metadata": {},
   "source": [
    "**Answer:**\n",
    "* A class inherits from more than one parent class.\n",
    "* Python resolves conflicts using MRO (Method Resolution Order)."
   ]
  },
  {
   "cell_type": "code",
   "execution_count": 13,
   "id": "83697a39",
   "metadata": {},
   "outputs": [],
   "source": [
    "class A: pass\n",
    "class B: pass\n",
    "class C(A, B): pass"
   ]
  },
  {
   "cell_type": "markdown",
   "id": "07a03623",
   "metadata": {},
   "source": [
    "### 19. Explain the purpose of `__str__` and `__repr__` methods in Python"
   ]
  },
  {
   "cell_type": "markdown",
   "id": "d3da2432",
   "metadata": {},
   "source": [
    "**Answer:**\n",
    "* __str__: returns human-readable representation (for users).\n",
    "* __repr__: returns official string representation (for developers/debugging)."
   ]
  },
  {
   "cell_type": "code",
   "execution_count": 14,
   "id": "e6269cb9",
   "metadata": {},
   "outputs": [],
   "source": [
    "class Student:\n",
    "    def __init__(self, name):\n",
    "        self.name = name\n",
    "    def __str__(self):\n",
    "        return f\"Student: {self.name}\"\n",
    "    def __repr__(self):\n",
    "        return f\"Student('{self.name}')\""
   ]
  },
  {
   "cell_type": "markdown",
   "id": "7d3abf6c",
   "metadata": {},
   "source": [
    "### 20. What is the significance of the `super()` function in Python"
   ]
  },
  {
   "cell_type": "markdown",
   "id": "06868bea",
   "metadata": {},
   "source": [
    "**Answer:**\n",
    "* Used to call the parent class constructor or methods.\n",
    "* Helps in multiple inheritance by avoiding repeated calls."
   ]
  },
  {
   "cell_type": "code",
   "execution_count": 15,
   "id": "f108a849",
   "metadata": {},
   "outputs": [],
   "source": [
    "class Parent:\n",
    "    def __init__(self):\n",
    "        print(\"Parent init\")\n",
    "\n",
    "class Child(Parent):\n",
    "    def __init__(self):\n",
    "        super().__init__()\n",
    "        print(\"Child init\")\n"
   ]
  },
  {
   "cell_type": "markdown",
   "id": "68da5f10",
   "metadata": {},
   "source": [
    "### 21. What is the significance of the `__del__` method in Python"
   ]
  },
  {
   "cell_type": "markdown",
   "id": "dcee7a3e",
   "metadata": {},
   "source": [
    "**Answer:**\n",
    "* It is a destructor method, called when an object is deleted or goes out of scope.\n",
    "* Used for cleanup tasks like closing files, releasing memory."
   ]
  },
  {
   "cell_type": "code",
   "execution_count": 16,
   "id": "4020d8cf",
   "metadata": {},
   "outputs": [],
   "source": [
    "class File:\n",
    "    def __del__(self):\n",
    "        print(\"File closed\")"
   ]
  },
  {
   "cell_type": "markdown",
   "id": "21a094cb",
   "metadata": {},
   "source": [
    "### 22. What is the difference between @staticmethod and @classmethod in Python"
   ]
  },
  {
   "cell_type": "markdown",
   "id": "741f15c7",
   "metadata": {},
   "source": [
    "**Answer:**\n",
    "* @staticmethod → No self or cls. Works like a normal function inside a class.\n",
    "* @classmethod → Takes cls as argument, can modify class variables."
   ]
  },
  {
   "cell_type": "markdown",
   "id": "d5203c28",
   "metadata": {},
   "source": [
    "### 23. How does polymorphism work in Python with inheritance"
   ]
  },
  {
   "cell_type": "markdown",
   "id": "ad3bf4ce",
   "metadata": {},
   "source": [
    "**Answer:**\n",
    "* Achieved by method overriding in child classes.\n",
    "* The base class method is redefined in derived classes.\n",
    "* At runtime, Python decides which method to call."
   ]
  },
  {
   "cell_type": "markdown",
   "id": "d0254edb",
   "metadata": {},
   "source": [
    "### 24. What is method chaining in Python OOP"
   ]
  },
  {
   "cell_type": "markdown",
   "id": "22b63fe9",
   "metadata": {},
   "source": [
    "**Answer:**\n",
    "* Calling multiple methods sequentially in a single statement.\n",
    "* Each method returns self.\n",
    "\n",
    "Example:"
   ]
  },
  {
   "cell_type": "code",
   "execution_count": 17,
   "id": "60feb689",
   "metadata": {},
   "outputs": [],
   "source": [
    "class Calculator:\n",
    "    def add(self, n):\n",
    "        self.value += n\n",
    "        return self"
   ]
  },
  {
   "cell_type": "markdown",
   "id": "6bdccbdf",
   "metadata": {},
   "source": [
    "### 25. What is the purpose of the `__call__` method in Python?"
   ]
  },
  {
   "cell_type": "markdown",
   "id": "80d72d3c",
   "metadata": {},
   "source": [
    "**Answer:**\n",
    "Allows an object to be called like a function.\n",
    "\n",
    "Example:"
   ]
  },
  {
   "cell_type": "code",
   "execution_count": 18,
   "id": "132b5bcd",
   "metadata": {},
   "outputs": [
    {
     "name": "stdout",
     "output_type": "stream",
     "text": [
      "Hello Tanvi\n"
     ]
    }
   ],
   "source": [
    "class Greet:\n",
    "    def __call__(self, name):\n",
    "        print(f\"Hello {name}\")\n",
    "\n",
    "g = Greet()\n",
    "g(\"Tanvi\")   # behaves like a function\n"
   ]
  },
  {
   "cell_type": "markdown",
   "id": "681f7eee",
   "metadata": {},
   "source": [
    "## Practical Questions"
   ]
  },
  {
   "cell_type": "markdown",
   "id": "01358b01",
   "metadata": {},
   "source": [
    "### 1. Create a parent class Animal with a method speak() that prints a generic message. Create a child class Dog that overrides the speak() method to print 'Bark!'."
   ]
  },
  {
   "cell_type": "code",
   "execution_count": 19,
   "id": "c16c69e7",
   "metadata": {},
   "outputs": [
    {
     "name": "stdout",
     "output_type": "stream",
     "text": [
      "This is a generic animal sound\n",
      "Bark!\n"
     ]
    }
   ],
   "source": [
    "class Animal:\n",
    "    def speak(self):\n",
    "        print(\"This is a generic animal sound\")\n",
    "\n",
    "class Dog(Animal):   # Inheriting from Animal\n",
    "    def speak(self):\n",
    "        print(\"Bark!\")\n",
    "\n",
    "# Example usage\n",
    "a = Animal()\n",
    "a.speak()   # Output: This is a generic animal sound\n",
    "\n",
    "d = Dog()\n",
    "d.speak()   # Output: Bark!\n"
   ]
  },
  {
   "cell_type": "markdown",
   "id": "4023b92b",
   "metadata": {},
   "source": [
    "### 2. Write a program to create an abstract class Shape with a method area(). Derive classes Circle and Rectangle from it and implement the area() method in both."
   ]
  },
  {
   "cell_type": "code",
   "execution_count": 20,
   "id": "5c29a75a",
   "metadata": {},
   "outputs": [
    {
     "name": "stdout",
     "output_type": "stream",
     "text": [
      "Circle area: 78.53981633974483\n",
      "Rectangle area: 24\n"
     ]
    }
   ],
   "source": [
    "from abc import ABC, abstractmethod\n",
    "import math\n",
    "\n",
    "class Shape(ABC):\n",
    "    @abstractmethod\n",
    "    def area(self):\n",
    "        pass\n",
    "\n",
    "class Circle(Shape):\n",
    "    def __init__(self, radius):\n",
    "        self.radius = radius\n",
    "    \n",
    "    def area(self):\n",
    "        return math.pi * self.radius ** 2\n",
    "\n",
    "class Rectangle(Shape):\n",
    "    def __init__(self, length, width):\n",
    "        self.length = length\n",
    "        self.width = width\n",
    "    \n",
    "    def area(self):\n",
    "        return self.length * self.width\n",
    "\n",
    "# Example usage\n",
    "c = Circle(5)\n",
    "print(\"Circle area:\", c.area())\n",
    "\n",
    "r = Rectangle(4, 6)\n",
    "print(\"Rectangle area:\", r.area())\n"
   ]
  },
  {
   "cell_type": "markdown",
   "id": "f701d58c",
   "metadata": {},
   "source": [
    "### 3. Implement a multi-level inheritance scenario where a class Vehicle has an attribute type. Derive a class Car and further derive a class ElectricCar that adds a battery attribute."
   ]
  },
  {
   "cell_type": "code",
   "execution_count": 21,
   "id": "443fe664",
   "metadata": {},
   "outputs": [
    {
     "name": "stdout",
     "output_type": "stream",
     "text": [
      "Type: Car, Brand: Tesla, Battery: 100 kWh\n"
     ]
    }
   ],
   "source": [
    "class Vehicle:\n",
    "    def __init__(self, vehicle_type):\n",
    "        self.type = vehicle_type\n",
    "\n",
    "class Car(Vehicle):\n",
    "    def __init__(self, brand, vehicle_type=\"Car\"):\n",
    "        super().__init__(vehicle_type)\n",
    "        self.brand = brand\n",
    "\n",
    "class ElectricCar(Car):\n",
    "    def __init__(self, brand, battery_capacity):\n",
    "        super().__init__(brand)\n",
    "        self.battery = battery_capacity\n",
    "\n",
    "# Example usage\n",
    "ec = ElectricCar(\"Tesla\", \"100 kWh\")\n",
    "print(f\"Type: {ec.type}, Brand: {ec.brand}, Battery: {ec.battery}\")\n"
   ]
  },
  {
   "cell_type": "markdown",
   "id": "dff341cb",
   "metadata": {},
   "source": [
    "### 4. Demonstrate polymorphism by creating a base class Bird with a method fly(). Create two derived classes Sparrow and Penguin that override the fly() method."
   ]
  },
  {
   "cell_type": "code",
   "execution_count": 22,
   "id": "b6aa7c15",
   "metadata": {},
   "outputs": [
    {
     "name": "stdout",
     "output_type": "stream",
     "text": [
      "Sparrow flies high\n",
      "Penguins cannot fly\n"
     ]
    }
   ],
   "source": [
    "class Bird:\n",
    "    def fly(self):\n",
    "        print(\"Some birds can fly\")\n",
    "\n",
    "class Sparrow(Bird):\n",
    "    def fly(self):\n",
    "        print(\"Sparrow flies high\")\n",
    "\n",
    "class Penguin(Bird):\n",
    "    def fly(self):\n",
    "        print(\"Penguins cannot fly\")\n",
    "\n",
    "# Example usage\n",
    "birds = [Sparrow(), Penguin()]\n",
    "for b in birds:\n",
    "    b.fly()\n"
   ]
  },
  {
   "cell_type": "markdown",
   "id": "b7e4dbc9",
   "metadata": {},
   "source": [
    "### 5. Write a program to demonstrate encapsulation by creating a class BankAccount with private attributes balance and methods to deposit, withdraw, and check balance."
   ]
  },
  {
   "cell_type": "code",
   "execution_count": 23,
   "id": "0eb94b5a",
   "metadata": {},
   "outputs": [
    {
     "name": "stdout",
     "output_type": "stream",
     "text": [
      "Balance: 1300\n"
     ]
    }
   ],
   "source": [
    "class BankAccount:\n",
    "    def __init__(self, balance=0):\n",
    "        self.__balance = balance   # private variable\n",
    "    \n",
    "    def deposit(self, amount):\n",
    "        self.__balance += amount\n",
    "    \n",
    "    def withdraw(self, amount):\n",
    "        if amount <= self.__balance:\n",
    "            self.__balance -= amount\n",
    "        else:\n",
    "            print(\"Insufficient balance\")\n",
    "    \n",
    "    def get_balance(self):\n",
    "        return self.__balance\n",
    "\n",
    "# Example usage\n",
    "acc = BankAccount(1000)\n",
    "acc.deposit(500)\n",
    "acc.withdraw(200)\n",
    "print(\"Balance:\", acc.get_balance())\n"
   ]
  },
  {
   "cell_type": "markdown",
   "id": "c56c96c0",
   "metadata": {},
   "source": [
    "### 6. Demonstrate runtime polymorphism using a method play() in a base class Instrument. Derive classes Guitar and Piano that implement their own version of play()."
   ]
  },
  {
   "cell_type": "code",
   "execution_count": 24,
   "id": "fb473c9e",
   "metadata": {},
   "outputs": [
    {
     "name": "stdout",
     "output_type": "stream",
     "text": [
      "Strumming the guitar\n",
      "Playing the piano\n"
     ]
    }
   ],
   "source": [
    "class Instrument:\n",
    "    def play(self):\n",
    "        print(\"Playing an instrument\")\n",
    "\n",
    "class Guitar(Instrument):\n",
    "    def play(self):\n",
    "        print(\"Strumming the guitar\")\n",
    "\n",
    "class Piano(Instrument):\n",
    "    def play(self):\n",
    "        print(\"Playing the piano\")\n",
    "\n",
    "# Example usage\n",
    "instruments = [Guitar(), Piano()]\n",
    "for inst in instruments:\n",
    "    inst.play()\n"
   ]
  },
  {
   "cell_type": "markdown",
   "id": "8b5bd08e",
   "metadata": {},
   "source": [
    "### 7. Create a class MathOperations with a class method add_numbers() to add two numbers and a static method subtract_numbers() to subtract two numbers."
   ]
  },
  {
   "cell_type": "code",
   "execution_count": 25,
   "id": "a1245fdd",
   "metadata": {},
   "outputs": [
    {
     "name": "stdout",
     "output_type": "stream",
     "text": [
      "Addition: 15\n",
      "Subtraction: 5\n"
     ]
    }
   ],
   "source": [
    "class MathOperations:\n",
    "    @classmethod\n",
    "    def add_numbers(cls, a, b):\n",
    "        return a + b\n",
    "    \n",
    "    @staticmethod\n",
    "    def subtract_numbers(a, b):\n",
    "        return a - b\n",
    "\n",
    "print(\"Addition:\", MathOperations.add_numbers(10, 5))\n",
    "print(\"Subtraction:\", MathOperations.subtract_numbers(10, 5))\n"
   ]
  },
  {
   "cell_type": "markdown",
   "id": "538df884",
   "metadata": {},
   "source": [
    "### 8. Implement a class Person with a class method to count the total number of persons created."
   ]
  },
  {
   "cell_type": "code",
   "execution_count": 26,
   "id": "ac6800fb",
   "metadata": {},
   "outputs": [
    {
     "name": "stdout",
     "output_type": "stream",
     "text": [
      "Total Persons: 2\n"
     ]
    }
   ],
   "source": [
    "class Person:\n",
    "    count = 0   # class variable\n",
    "    \n",
    "    def __init__(self, name):\n",
    "        self.name = name\n",
    "        Person.count += 1   # increment on object creation\n",
    "    \n",
    "    @classmethod\n",
    "    def total_persons(cls):\n",
    "        return cls.count\n",
    "\n",
    "# Example usage\n",
    "p1 = Person(\"Tanvi\")\n",
    "p2 = Person(\"Raj\")\n",
    "print(\"Total Persons:\", Person.total_persons())\n"
   ]
  },
  {
   "cell_type": "markdown",
   "id": "5ce98fb4",
   "metadata": {},
   "source": [
    "### 9. Write a class Fraction with attributes numerator and denominator. Override the str method to display the fraction as 'numerator/denominator'."
   ]
  },
  {
   "cell_type": "code",
   "execution_count": 27,
   "id": "aba97ef8",
   "metadata": {},
   "outputs": [
    {
     "name": "stdout",
     "output_type": "stream",
     "text": [
      "3/4\n"
     ]
    }
   ],
   "source": [
    "class Fraction:\n",
    "    def __init__(self, numerator, denominator):\n",
    "        self.num = numerator\n",
    "        self.den = denominator\n",
    "    \n",
    "    def __str__(self):\n",
    "        return f\"{self.num}/{self.den}\"\n",
    "\n",
    "f = Fraction(3, 4)\n",
    "print(f)   # Output: 3/4\n"
   ]
  },
  {
   "cell_type": "markdown",
   "id": "5b296c08",
   "metadata": {},
   "source": [
    "### 10. Demonstrate operator overloading by creating a class Vector and overriding the add method to add two vectors."
   ]
  },
  {
   "cell_type": "code",
   "execution_count": 28,
   "id": "097b89f4",
   "metadata": {},
   "outputs": [
    {
     "name": "stdout",
     "output_type": "stream",
     "text": [
      "(6, 8)\n"
     ]
    }
   ],
   "source": [
    "class Vector:\n",
    "    def __init__(self, x, y):\n",
    "        self.x = x\n",
    "        self.y = y\n",
    "    \n",
    "    def __add__(self, other):\n",
    "        return Vector(self.x + other.x, self.y + other.y)\n",
    "    \n",
    "    def __str__(self):\n",
    "        return f\"({self.x}, {self.y})\"\n",
    "\n",
    "v1 = Vector(2, 3)\n",
    "v2 = Vector(4, 5)\n",
    "print(v1 + v2)   # Output: (6, 8)\n"
   ]
  },
  {
   "cell_type": "markdown",
   "id": "207f1273",
   "metadata": {},
   "source": [
    "### 11. Create a class Person with attributes name and age. Add a method greet() that prints 'Hello, my name is {name} and I am {age} years old.'."
   ]
  },
  {
   "cell_type": "code",
   "execution_count": 29,
   "id": "f6874a0f",
   "metadata": {},
   "outputs": [
    {
     "name": "stdout",
     "output_type": "stream",
     "text": [
      "Hello, my name is Tanvi and I am 22 years old.\n"
     ]
    }
   ],
   "source": [
    "class Person:\n",
    "    def __init__(self, name, age):\n",
    "        self.name = name\n",
    "        self.age = age\n",
    "    \n",
    "    def greet(self):\n",
    "        print(f\"Hello, my name is {self.name} and I am {self.age} years old.\")\n",
    "\n",
    "p = Person(\"Tanvi\", 22)\n",
    "p.greet()\n"
   ]
  },
  {
   "cell_type": "markdown",
   "id": "59e12e86",
   "metadata": {},
   "source": [
    "### 12. Implement a class Student with attributes name and grades. Create a method average_grade() to compute the average of the grades."
   ]
  },
  {
   "cell_type": "code",
   "execution_count": 30,
   "id": "d11d6733",
   "metadata": {},
   "outputs": [
    {
     "name": "stdout",
     "output_type": "stream",
     "text": [
      "Average: 85.0\n"
     ]
    }
   ],
   "source": [
    "class Student:\n",
    "    def __init__(self, name, grades):\n",
    "        self.name = name\n",
    "        self.grades = grades\n",
    "    \n",
    "    def average_grade(self):\n",
    "        return sum(self.grades) / len(self.grades)\n",
    "\n",
    "s = Student(\"Raj\", [80, 90, 85])\n",
    "print(\"Average:\", s.average_grade())\n"
   ]
  },
  {
   "cell_type": "markdown",
   "id": "f9556a7f",
   "metadata": {},
   "source": [
    "### 13. Create a class Rectangle with methods set_dimensions() to set the dimensions and area() to calculate the area."
   ]
  },
  {
   "cell_type": "code",
   "execution_count": 31,
   "id": "e88a08dc",
   "metadata": {},
   "outputs": [
    {
     "name": "stdout",
     "output_type": "stream",
     "text": [
      "Area: 50\n"
     ]
    }
   ],
   "source": [
    "class Rectangle:\n",
    "    def set_dimensions(self, length, width):\n",
    "        self.length = length\n",
    "        self.width = width\n",
    "    \n",
    "    def area(self):\n",
    "        return self.length * self.width\n",
    "\n",
    "r = Rectangle()\n",
    "r.set_dimensions(5, 10)\n",
    "print(\"Area:\", r.area())\n"
   ]
  },
  {
   "cell_type": "markdown",
   "id": "971bce17",
   "metadata": {},
   "source": [
    "### 14. Create a class Employee with a method calculate_salary() that computes the salary based on hours worked and hourly rate. Create a derived class Manager that adds a bonus to the salary."
   ]
  },
  {
   "cell_type": "code",
   "execution_count": 32,
   "id": "77546512",
   "metadata": {},
   "outputs": [
    {
     "name": "stdout",
     "output_type": "stream",
     "text": [
      "Manager Salary: 4000\n"
     ]
    }
   ],
   "source": [
    "class Employee:\n",
    "    def __init__(self, hours, rate):\n",
    "        self.hours = hours\n",
    "        self.rate = rate\n",
    "    \n",
    "    def calculate_salary(self):\n",
    "        return self.hours * self.rate\n",
    "\n",
    "class Manager(Employee):\n",
    "    def __init__(self, hours, rate, bonus):\n",
    "        super().__init__(hours, rate)\n",
    "        self.bonus = bonus\n",
    "    \n",
    "    def calculate_salary(self):\n",
    "        return super().calculate_salary() + self.bonus\n",
    "\n",
    "m = Manager(40, 50, 2000)\n",
    "print(\"Manager Salary:\", m.calculate_salary())\n"
   ]
  },
  {
   "cell_type": "markdown",
   "id": "a693b73f",
   "metadata": {},
   "source": [
    "### 15. Create a class Product with attributes name, price, and quantity. Implement a method total_price() that calculates the total price of the product."
   ]
  },
  {
   "cell_type": "code",
   "execution_count": 33,
   "id": "b088904b",
   "metadata": {},
   "outputs": [
    {
     "name": "stdout",
     "output_type": "stream",
     "text": [
      "Total Price: 100000\n"
     ]
    }
   ],
   "source": [
    "class Product:\n",
    "    def __init__(self, name, price, quantity):\n",
    "        self.name = name\n",
    "        self.price = price\n",
    "        self.quantity = quantity\n",
    "    \n",
    "    def total_price(self):\n",
    "        return self.price * self.quantity\n",
    "\n",
    "p = Product(\"Laptop\", 50000, 2)\n",
    "print(\"Total Price:\", p.total_price())\n"
   ]
  },
  {
   "cell_type": "markdown",
   "id": "887ec4dc",
   "metadata": {},
   "source": [
    "### 16. Create a class Animal with an abstract method sound(). Create two derived classes Cow and Sheep that implement the sound() method."
   ]
  },
  {
   "cell_type": "code",
   "execution_count": 34,
   "id": "3b9d0139",
   "metadata": {},
   "outputs": [
    {
     "name": "stdout",
     "output_type": "stream",
     "text": [
      "Moo\n",
      "Baa\n"
     ]
    }
   ],
   "source": [
    "from abc import ABC, abstractmethod\n",
    "\n",
    "class Animal(ABC):\n",
    "    @abstractmethod\n",
    "    def sound(self):\n",
    "        pass\n",
    "\n",
    "class Cow(Animal):\n",
    "    def sound(self):\n",
    "        print(\"Moo\")\n",
    "\n",
    "class Sheep(Animal):\n",
    "    def sound(self):\n",
    "        print(\"Baa\")\n",
    "\n",
    "animals = [Cow(), Sheep()]\n",
    "for a in animals:\n",
    "    a.sound()\n"
   ]
  },
  {
   "cell_type": "markdown",
   "id": "cd31b7ef",
   "metadata": {},
   "source": [
    "### 17. Create a class Book with attributes title, author, and year_published. Add a method get_book_info() that returns a formatted string with the book's details."
   ]
  },
  {
   "cell_type": "code",
   "execution_count": 35,
   "id": "88fefc3c",
   "metadata": {},
   "outputs": [
    {
     "name": "stdout",
     "output_type": "stream",
     "text": [
      "Python Basics by Guido, published in 1991\n"
     ]
    }
   ],
   "source": [
    "class Book:\n",
    "    def __init__(self, title, author, year):\n",
    "        self.title = title\n",
    "        self.author = author\n",
    "        self.year = year\n",
    "    \n",
    "    def get_book_info(self):\n",
    "        return f\"{self.title} by {self.author}, published in {self.year}\"\n",
    "\n",
    "b = Book(\"Python Basics\", \"Guido\", 1991)\n",
    "print(b.get_book_info())\n"
   ]
  },
  {
   "cell_type": "markdown",
   "id": "742b2f4e",
   "metadata": {},
   "source": [
    "### 18. Create a class House with attributes address and price. Create a derived class Mansion that adds an attribute number_of_rooms."
   ]
  },
  {
   "cell_type": "code",
   "execution_count": 36,
   "id": "40a3ed09",
   "metadata": {},
   "outputs": [
    {
     "name": "stdout",
     "output_type": "stream",
     "text": [
      "Address: Hyderabad, Price: 5000000, Rooms: 12\n"
     ]
    }
   ],
   "source": [
    "class House:\n",
    "    def __init__(self, address, price):\n",
    "        self.address = address\n",
    "        self.price = price\n",
    "\n",
    "class Mansion(House):\n",
    "    def __init__(self, address, price, rooms):\n",
    "        super().__init__(address, price)\n",
    "        self.rooms = rooms\n",
    "\n",
    "m = Mansion(\"Hyderabad\", 5000000, 12)\n",
    "print(f\"Address: {m.address}, Price: {m.price}, Rooms: {m.rooms}\")\n"
   ]
  }
 ],
 "metadata": {
  "kernelspec": {
   "display_name": "base",
   "language": "python",
   "name": "python3"
  },
  "language_info": {
   "codemirror_mode": {
    "name": "ipython",
    "version": 3
   },
   "file_extension": ".py",
   "mimetype": "text/x-python",
   "name": "python",
   "nbconvert_exporter": "python",
   "pygments_lexer": "ipython3",
   "version": "3.12.3"
  }
 },
 "nbformat": 4,
 "nbformat_minor": 5
}
